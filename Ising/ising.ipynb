{
 "cells": [
  {
   "cell_type": "markdown",
   "metadata": {
    "collapsed": true,
    "pycharm": {
     "name": "#%% md\n"
    }
   },
   "source": [
    "### Ising model"
   ]
  },
  {
   "cell_type": "markdown",
   "source": [
    "- \"Spins\" = tiny magnets [ N   S ] all at point particles on a lattes\n",
    "-  Spin is denoted as up and down\n",
    "- If we were to look at sping in 360  rather than up and down this is called the pots model\n",
    "\n",
    "- Spin up +1\n",
    "- Spin down -1\n",
    "\n",
    "-Consider 4 spins, say energy is the sum of 4 spins\n",
    " - Energy  is -4 = -1 -1 -1 -1    One Way\n",
    " - Energy  is -2 = +1 -1 -1 -1    Four Ways (regardless of order)\n",
    " - Energy  is  0 = +1 +1 -1 -1    Six Ways (regardless of order)\n",
    " - Energy  is +2 = +1 +1 +1 -1    Four Ways\n",
    " - Energy  is +4 = +1 +1 +1 +1    One Way\n",
    "\n"
   ],
   "metadata": {
    "collapsed": false,
    "pycharm": {
     "name": "#%% md\n"
    }
   }
  },
  {
   "cell_type": "code",
   "source": [
    "import sys\n",
    "import numpy as np\n",
    "import random\n",
    "\n",
    "\n",
    "class IsingDemon:\n",
    "\n",
    "    def __init__(self,N,sE):\n",
    "        self.N = N\n",
    "        self.demonEnergyDistribution = np.zeros((N,N))\n",
    "        self.lattice = np.ones((N,N))\n",
    "        self.systemEnergy = sE  # desired energy value?\n",
    "        self.demonEnergy = 0\n",
    "        tries = 0\n",
    "        E= -N\n",
    "        self.magnetization = N*N\n",
    "        while (E<self.systemEnergy) and tries<10*N*N:\n",
    "            x_rand = random.randint(0,N-1)\n",
    "            y_rand = random.randint(0,N-1)\n",
    "            dE = self.deltaE(x_rand,y_rand)\n",
    "            if (dE>0):\n",
    "                new_spin = self.lattice[x_rand,y_rand] = -self.lattice[x_rand,y_rand]\n",
    "                self.magnetization += new_spin*2\n",
    "            tries +=1\n",
    "        self.systemEnergy = E\n",
    "        self.resetData()\n",
    "\n",
    "    def deltaE (self,x,y):\n",
    "        return  2*self.lattice[x,y]*self.lattice[(x-1+self.N)%self.N,y]*\\\n",
    "                self.lattice[(x+1+self.N)%self.N,y]*self.lattice[x,(y-1+self.N)%self.N]*\\\n",
    "                self.lattice[x,(y+1+self.N)%self.N]\n",
    "\n",
    "    def resetData(self):\n",
    "        self.mcs = 0\n",
    "        self.systemEnergyAccumulator = 0\n",
    "        self.demonEnergyAccumulator = 0\n",
    "        self.mAccumulator = 0\n",
    "        self.m2Accumulator = 0\n",
    "        self.acceptedMoves = 0\n",
    "\n",
    "    def doOneStep(self):\n",
    "        for j in range(self.N):\n",
    "            x_rand = random.randint(0,self.N-1)\n",
    "            y_rand = random.randint(0,self.N)\n",
    "            dE = self.deltaE(x_rand,y_rand)\n",
    "\n",
    "            if (dE<= self.demonEnergy):\n",
    "                new_spin = self.lattice[x_rand,y_rand] = -self.lattice[x_rand,y_rand]\n",
    "                self.acceptedMoves +=1\n",
    "                self.systemEnergy += dE\n",
    "                self.demonEnergy -= dE\n",
    "                self.magnetization += 2*new_spin\n",
    "                self.demonEnergyDistribution[self.demonEnergy] +=1\n",
    "        self.mcs += 1\n",
    "\n",
    "def main(args):\n",
    "    size = int(args[0])\n",
    "    app = IsingDemon(10,20)\n",
    "    app.doOneStep()\n",
    "\n",
    "\n",
    "if __name__ == \"__main__\":\n",
    "    main([10])"
   ],
   "metadata": {
    "collapsed": false,
    "pycharm": {
     "name": "#%%\n"
    }
   },
   "execution_count": 6,
   "outputs": []
  }
 ],
 "metadata": {
  "kernelspec": {
   "display_name": "Python 3",
   "language": "python",
   "name": "python3"
  },
  "language_info": {
   "codemirror_mode": {
    "name": "ipython",
    "version": 2
   },
   "file_extension": ".py",
   "mimetype": "text/x-python",
   "name": "python",
   "nbconvert_exporter": "python",
   "pygments_lexer": "ipython2",
   "version": "2.7.6"
  }
 },
 "nbformat": 4,
 "nbformat_minor": 0
}