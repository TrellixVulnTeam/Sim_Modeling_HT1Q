{
 "cells": [
  {
   "cell_type": "markdown",
   "metadata": {
    "collapsed": true,
    "pycharm": {
     "name": "#%% md
    }
   },
   "source": [
    "- When analyzing data try analying sub sections of the data ,
    " ,
    "<table border=\"1\" cellpadding=\"5\" cellspacing=\"0\"> ,
    "<tr valign=\"top\" style=\"background:SkyBlue\"> ,
    "<th width=\"20%\">Points ,
    "</th> ,
    "<th width=\"20%\">3 ,
    "</th> ,
    "<th width=\"20%\">2 ,
    "</th> ,
    "<th width=\"20%\">1 ,
    "</th> ,
    "<th width=\"20%\">0 ,
    "</th></tr> ,
    "<tr valign=\"top\"> ,
    "<td> <b>Purpose and Organization</b> ,
    "</td> ,
    "<td> Clear progression from the group assignments to the completed problem set. Activities done as a group are leveraged to improve the quality of answers. Information well arranged, is complete, and it is simple to find answers to questions. ,
    "</td> ,
    "<td> Clear ties to group work, but some of the material is inconsistent. Material is presented well, but has some ambiguities, misspellings, typos, and other careless aspects. ,
    "</td> ,
    "<td> Little relation between what is turned in and the group activities. The problem is difficult to understand and find answers to the questions in. ,
    "</td> ,
    "<td> Very incomplete problem set with no relation to group work. ,
    "</td></tr> ,
    "<tr valign=\"top\" style=\"background:LightCyan\"> ,
    "<td><b>Understanding</b> ,
    "</td> ,
    "<td> Used a deep understanding of the system to compare results to analytic solutions, consider conservation, reason about results, construct plots, and provide answers to the questions. ,
    "</td> ,
    "<td> Made a clear effort to use both words and visuals to describe the physics and numerics of the problems; understanding is still developing as evidenced by errors and a lack of depth in some of the answers. ,
    "</td> ,
    "<td> Physics and numerics understanding is very limited as demonstrated by the lack of depth, several errors, failure to depict information in visual manner or absence of some answers. ,
    "</td> ,
    "<td> Failure to engage the problems based on incomplete answers, and/or a lack of detail in responses. ,
    "</td></tr> ,
    "<tr valign=\"top\"> ,
    "<td> <b>Model Implementation</b> ,
    "</td> ,
    "<td> Model works and is relevant to the stated purpose; model uses reasonable input values and yields realistic results; was able to use model to explore assigned questions. Important aspects of model implementation, especially where different from group assignments, are well documented. ,
    "</td> ,
    "<td> Model works and is relevant to purpose; certain input values and/or results are not realistic; model may not be capable of exploring some of the assigned questions. ,
    "</td> ,
    "<td> Model only partially works, is not able to address all of the assigned problems, or has major errors in input and output. ,
    "</td> ,
    "<td> Failed to construct a working model which was relevant to the purpose. ,
    "</td></tr> ,
    "<tr valign=\"top\" style=\"background:LightCyan\"> ,
    "<td><b>Analysis</b> ,
    "</td> ,
    "<td>Relationship between variables are clearly stated; results are interpreted and  meaningful conclusions are reached; discussion of errors or deficiencies in model drawn from a sound understanding of the system; well labeled visuals are frequently used to supporting conclusions. ,
    "</td> ,
    "<td>Conclusions were drawn and relationships were discussed; may have one or more serious errors and/or omissions. Supporting graphics are mislabeled, or hard to interpret. ,
    "</td> ,
    "<td> Discussion suffers from many serious errors and/or omissions. Visuals are missing or very poorly presented. ,
    "</td> ,
    "<td> Incomplete assignment, and numerous conceptual flaws in what is turned in. ,
    "</td></tr></table> ,
    "<p><a href=\"/classes/cs477/index.php/Problem_Set_Rubric,_Separate_Page\" title=\"Problem Set Rubric, Separate Page\">Problem Set Rubric, Separate Page</a> ,
    "</p> ,
    "<h3><span class=\"mw-headline\" id=\"Project_and_Final_Project_Rubric\">Project and Final Project Rubric</span></h3> ,
    "<table border=\"1\" cellpadding=\"5\" cellspacing=\"0\">"
   ]
  },
  {
   "cell_type": "code",
   "execution_count": null,
   "outputs": [],
   "source": [],
   "metadata": {
    "collapsed": false,
    "pycharm": {
     "name": "#%%
    }
   }
  }
 ],
 "metadata": {
  "kernelspec": {
   "display_name": "Python 3",
   "language": "python",
   "name": "python3"
  },
  "language_info": {
   "codemirror_mode": {
    "name": "ipython",
    "version": 2
   },
   "file_extension": ".py",
   "mimetype": "text/x-python",
   "name": "python",
   "nbconvert_exporter": "python",
   "pygments_lexer": "ipython2",
   "version": "2.7.6"
  }
 },
 "nbformat": 4,
 "nbformat_minor": 0
}