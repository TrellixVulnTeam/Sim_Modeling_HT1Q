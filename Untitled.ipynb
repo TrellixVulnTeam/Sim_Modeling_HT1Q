{
 "cells": [
  {
   "cell_type": "code",
   "execution_count": 1,
   "metadata": {},
   "outputs": [],
   "source": [
    "import numpy as np"
   ]
  },
  {
   "cell_type": "markdown",
   "metadata": {
    "pycharm": {
     "name": "#%% md\n"
    }
   },
   "source": [
    "\n",
    "\n",
    "# notes\n",
    "\n",
    " - Purpose - Sample - Posterior distribution\n",
    " - forward model, and a likelihood {can compute}\n",
    "    - empirical\n",
    "    - physical\n",
    "    - Likelihood - probability the observations are explained by model\n",
    "\n",
    "### Terms\n",
    " - p(mu|x) = p(x|mu)*p(u)/p(x)\n",
    "\n",
    "- p() = probability\n",
    "- p(a|b) probability of a given b\n",
    "- x,mu - can be vectors\n",
    "    - mu - mean and standard deaviation (slope inercept) (friction coef)\n",
    "        - peak of the gausen curve\n",
    "        - multiple points you take the product of probabilitys\n",
    "    - x - data or observations\n",
    "- p(mu|x) = posterior - want but don't know\n",
    "- p(x|mu) = liklihood - the probability of seeing x given mu\n",
    "- p(mu) - prior - what we think is going to happen\n",
    "- p(x) - normalization - All possible observations\n",
    "\n",
    "### Great Idea\n",
    "- sample peramiter with  a markov chain\n",
    "    - mu_0 -> mu_1 -> mu_2\n",
    "        - random walk though space\n",
    "- whats the probability of a transition?\n",
    "    - p(mu_n+1|x)/p(mu_n|x) = ( p(x|mu_n+1) * p(mu_n+1)) / (p(x|mu_n) * p(mu_n)) = p(x|mu_n+1)/p(x|mu_n)\n",
    "- p(mu_n) = p(mu_n+1) given a symetrical gausien\n",
    "\n",
    " ### Trasition Probability\n",
    " - S =  p(x|mu_n+1)/p(x|mu_n) : Ratio of the liklihoods\n",
    "- accaptance probability\n",
    "    - alpha  = min (1, S)\n",
    "    - p(x|mu) = [Sum]i=0:n p(x_i|mu) *This can cause underflow*\n",
    "         - log( p(x|mu)) = log( [Sum]i=0:n p(x_i|mu))\n",
    "         - alpha = min (0 , log( p(x|mu)) \n",
    "### Algorythm\n",
    "- Begin with mu_0 - guess at peramitor\n",
    "\n",
    "1. Generate a proposal\n",
    " - mu_p = mu_n + mu_0\n",
    "1. find log(alpha)\n",
    "1. find w = log(rand(0,1))\n",
    " - if w < log (alpha) ACCEPT else: mu_n+1=mu_n0"
   ]
  },
  {
   "cell_type": "code",
   "execution_count": 1,
   "metadata": {},
   "outputs": [
    {
     "data": {
      "text/plain": "'anim = FuncAnimation(fig, animate, init_function=init,\\n                    frames=200, interval=20, blit=True)\\nHTML(anim.to_html5_video())'"
     },
     "execution_count": 1,
     "metadata": {},
     "output_type": "execute_result"
    }
   ],
   "source": [
    "\"\"\"anim = FuncAnimation(fig, animate, init_function=init,\n",
    "                    frames=200, interval=20, blit=True)\n",
    "HTML(anim.to_html5_video())\"\"\""
   ]
  },
  {
   "cell_type": "markdown",
   "metadata": {
    "pycharm": {
     "name": "#%% md\n"
    }
   },
   "source": [
    "## Dynamics\n",
    "\n",
    "- Newtons 2nd lay\n",
    "    - F = ma\n",
    "        - Special case, gravity\n",
    "            - a = -g, g= 9.8 m/s**2\n",
    "    - ma = m d_2*y\n",
    "    \n",
    "## General ODE solver\n",
    "\n",
    "- looks like \n",
    "\n",
    "    - dy_/dt = f(t,y_)\n",
    "    - dy_ = vector\n",
    "    - y_ = vector\n",
    "    - f(t,y_) = python function \n",
    "        - input =  position, velocity\n",
    "        - output = velocity, acceleration\n",
    "         - acceleration newtons 2nd law\n",
    "         \n",
    " \n",
    "\n",
    "\n"
   ]
  }
 ],
 "metadata": {
  "kernelspec": {
   "display_name": "Python 3",
   "language": "python",
   "name": "python3"
  },
  "language_info": {
   "codemirror_mode": {
    "name": "ipython",
    "version": 3
   },
   "file_extension": ".py",
   "mimetype": "text/x-python",
   "name": "python",
   "nbconvert_exporter": "python",
   "pygments_lexer": "ipython3",
   "version": "3.8.5"
  }
 },
 "nbformat": 4,
 "nbformat_minor": 4
}