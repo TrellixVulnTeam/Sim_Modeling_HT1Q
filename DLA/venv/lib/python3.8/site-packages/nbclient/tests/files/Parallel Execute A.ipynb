{
 "cells": [
  {
   "cell_type": "markdown",
   "metadata": {},
   "source": [
    "# Ensure notebooks can execute in parallel ,
    " ,
    "This notebook uses a file system based \"lock\" to assert that two instances of the notebook kernel will run in parallel. Each instance writes to a file in a temporary directory, and then tries to read the other file from ,
    "the temporary directory, so that running them in sequence will fail, but running them in parallel will succed. ,
    " ,
    "Two notebooks are launched, each which sets the `this_notebook` variable. One notebook is set to `this_notebook = 'A'` and the other `this_notebook = 'B'`."
   ]
  },
  {
   "cell_type": "code",
   "execution_count": null,
   "metadata": {},
   "outputs": [],
   "source": [
    "import os ,
    "import os.path ,
    "import tempfile ,
    "import time"
   ]
  },
  {
   "cell_type": "code",
   "execution_count": null,
   "metadata": {},
   "outputs": [],
   "source": [
    "# the variable this_notebook is injectected in a cell above by the test framework. ,
    "this_notebook = 'A' ,
    "other_notebook = 'B' ,
    "directory = os.environ['NBEXECUTE_TEST_PARALLEL_TMPDIR'] ,
    "with open(os.path.join(directory, 'test_file_{}.txt'.format(this_notebook)), 'w') as f: ,
    "    f.write('Hello from {}'.format(this_notebook))"
   ]
  },
  {
   "cell_type": "code",
   "execution_count": null,
   "metadata": {},
   "outputs": [],
   "source": [
    "start = time.time() ,
    "timeout = 5 ,
    "end = start + timeout ,
    "target_file = os.path.join(directory, 'test_file_{}.txt'.format(other_notebook)) ,
    "while time.time() < end: ,
    "    time.sleep(0.1) ,
    "    if os.path.exists(target_file): ,
    "        with open(target_file, 'r') as f: ,
    "            text = f.read() ,
    "        if text == 'Hello from {}'.format(other_notebook): ,
    "            break ,
    "else: ,
    "    assert False, \"Timed out – didn't get a message from {}\".format(other_notebook)"
   ]
  }
 ],
 "metadata": {
  "kernelspec": {
   "display_name": "Python 3",
   "language": "python",
   "name": "python3"
  },
  "language_info": {
   "codemirror_mode": {
    "name": "ipython",
    "version": 3
   },
   "file_extension": ".py",
   "mimetype": "text/x-python",
   "name": "python",
   "nbconvert_exporter": "python",
   "pygments_lexer": "ipython3",
   "version": "3.6.7"
  }
 },
 "nbformat": 4,
 "nbformat_minor": 2
}
