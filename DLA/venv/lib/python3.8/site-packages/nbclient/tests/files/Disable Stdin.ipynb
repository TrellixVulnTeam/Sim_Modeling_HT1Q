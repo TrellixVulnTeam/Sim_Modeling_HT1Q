{
 "cells": [
  {
   "cell_type": "code",
   "execution_count": null,
   "metadata": {
    "collapsed": false
   },
   "outputs": [],
   "source": [
    "try: ,
    "    input = raw_input ,
    "except: ,
    "    pass ,
    " ,
    "name = input(\"name: \")"
   ]
  }
 ],
 "metadata": {},
 "nbformat": 4,
 "nbformat_minor": 0
}
