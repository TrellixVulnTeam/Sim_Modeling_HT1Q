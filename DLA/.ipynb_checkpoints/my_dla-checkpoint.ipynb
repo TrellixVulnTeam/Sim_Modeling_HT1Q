{
 "cells": [
  {
   "cell_type": "code",
   "execution_count": 2,
   "metadata": {},
   "outputs": [
    {
     "ename": "SyntaxError",
     "evalue": "unexpected EOF while parsing (<ipython-input-2-fa7f0a8f4137>, line 70)",
     "output_type": "error",
     "traceback": [
      "\u001b[0;36m  File \u001b[0;32m\"<ipython-input-2-fa7f0a8f4137>\"\u001b[0;36m, line \u001b[0;32m70\u001b[0m\n\u001b[0;31m    # See PyCharm help at https://www.jetbrains.com/help/pycharm/\u001b[0m\n\u001b[0m                                                                 ^\u001b[0m\n\u001b[0;31mSyntaxError\u001b[0m\u001b[0;31m:\u001b[0m unexpected EOF while parsing\n"
     ]
    }
   ],
   "source": [
    "import random\n",
    "import matplotlib.pyplot as plt\n",
    "import numpy as np\n",
    "\n",
    "\n",
    "class DLA:\n",
    "    def __init__(self,L=300):\n",
    "        self.L = L\n",
    "        self.walker_count = 0\n",
    "        self.middle = L//2\n",
    "\n",
    "        self.world = np.zeros((L,L))\n",
    "\n",
    "        self.world[L//2,L//2]=1\n",
    "        self.radi = 3\n",
    "        self.ringSize = L//10\n",
    "        self.maxRadi = self.ringSize  + self.radi\n",
    "\n",
    "    def init_walker(self):\n",
    "        if self.radi <self.L//2:\n",
    "            # print(self.L//2-self.radi)\n",
    "            self.walker_count += 1\n",
    "\n",
    "\n",
    "\n",
    "            while True:\n",
    "                angle = random.random()*2*np.pi\n",
    "\n",
    "                start_x = self.L//2 + int(self.radi*np.cos(angle))\n",
    "                start_y = self.L//2 + int(self.radi*np.sin(angle))\n",
    "                if self.move_walker(start_x,start_y):\n",
    "                    return True\n",
    "        else:\n",
    "            return False\n",
    "\n",
    "# NN sum from https://stackoverflow.com/questions/36964875/sum-of-8-neighbors-in-2d-array/37026344\n",
    "\n",
    "    def move_walker(self,x,y):\n",
    "        while True:\n",
    "            r = 1+ int(np.sqrt((x-self.L//2)**2+(y-self.L//2)**2))\n",
    "\n",
    "            if r > self.maxRadi:\n",
    "                return False\n",
    "\n",
    "\n",
    "            if r < self.middle and (self.world[x-1][y]+self.world[x+1][y]+self.world[x][y+1]+self.world[x][y-1])>0:\n",
    "\n",
    "                self.world[x][y]=1\n",
    "                if r >= self.radi:\n",
    "                    self.radi =r+ 2\n",
    "                self.maxRadi= self.radi + self.ringSize\n",
    "                return True\n",
    "            else:\n",
    "                move_val = random.randrange(0,4)\n",
    "                if move_val ==0:\n",
    "                    x+= 1\n",
    "                elif move_val ==1:\n",
    "                    x-= 1\n",
    "                elif move_val ==2:\n",
    "                    y+= 1\n",
    "                else :\n",
    "                    y-= 1\n",
    "\n",
    "\n",
    "\n"
   ]
  },
  {
   "cell_type": "code",
   "execution_count": null,
   "metadata": {},
   "outputs": [],
   "source": [
    "app = DLA()\n",
    "while  app.init_walker():\n",
    "    pass\n",
    "\n",
    "fig = plt.figure()\n",
    "ax = plt.axes()\n",
    "plot = ax.matshow(app.world)\n",
    "plt.show()"
   ]
  },
  {
   "cell_type": "code",
   "execution_count": null,
   "metadata": {},
   "outputs": [],
   "source": []
  }
 ],
 "metadata": {
  "kernelspec": {
   "display_name": "Python 3",
   "language": "python",
   "name": "python3"
  },
  "language_info": {
   "codemirror_mode": {
    "name": "ipython",
    "version": 3
   },
   "file_extension": ".py",
   "mimetype": "text/x-python",
   "name": "python",
   "nbconvert_exporter": "python",
   "pygments_lexer": "ipython3",
   "version": "3.8.5"
  }
 },
 "nbformat": 4,
 "nbformat_minor": 1
}
